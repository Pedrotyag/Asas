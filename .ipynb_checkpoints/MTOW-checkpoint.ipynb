{
 "cells": [
  {
   "cell_type": "code",
   "execution_count": 1,
   "metadata": {},
   "outputs": [],
   "source": [
    "global g, S, rho\n",
    "S = 0,857400552\n",
    "g = 9.81\n",
    "rho = 1.225\n",
    "\n",
    "CL = 2.0336\n",
    "CD = 0.2019"
   ]
  },
  {
   "cell_type": "code",
   "execution_count": null,
   "metadata": {},
   "outputs": [],
   "source": [
    "def mtow (self, rho = 1.225, coeficientes = (-.0126, -0.5248, 40.0248)):\n",
    "    \n",
    "    a = coeficientes[0]\n",
    "    b = coeficientes[1]\n",
    "    c = coeficientes[2]\n",
    "    \n",
    "    for k in range (0, 270):\n",
    "        W= (k/(9)) * g\n",
    "        V = math.sqrt((2*W)/(rho*S*CL)) * 1.2 * 0.7\n",
    "        T = a*((VL0*0.7)^2)+b*(VL0*0.7)+c\n",
    "        D = rho*V**(2)*0.5*CD*S\n",
    "        L = rho*V**(2)*0.5*CL*S\n",
    "        Slo = round((1.44*(W)**(2))/(g*rho*S*CL*(T-(D+mi*(W-L)))), 2)\n",
    "        if Slo > pista_total:\n",
    "            break    \n",
    "\n",
    "    W = W # MTOW em Newton\n",
    "    return W"
   ]
  }
 ],
 "metadata": {
  "kernelspec": {
   "display_name": "Python 3",
   "language": "python",
   "name": "python3"
  },
  "language_info": {
   "codemirror_mode": {
    "name": "ipython",
    "version": 3
   },
   "file_extension": ".py",
   "mimetype": "text/x-python",
   "name": "python",
   "nbconvert_exporter": "python",
   "pygments_lexer": "ipython3",
   "version": "3.8.5"
  }
 },
 "nbformat": 4,
 "nbformat_minor": 4
}
