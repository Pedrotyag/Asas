{
 "cells": [
  {
   "cell_type": "code",
   "execution_count": 1,
   "metadata": {},
   "outputs": [],
   "source": [
    "import math"
   ]
  },
  {
   "cell_type": "code",
   "execution_count": 2,
   "metadata": {},
   "outputs": [],
   "source": [
    "global g, S, rho\n",
    "S = 0.46\n",
    "g = 9.81\n",
    "rho = 1.225\n",
    "mi = 0.025\n",
    "pista_total = 60\n",
    "\n",
    "CL = 1.656\n",
    "CD = 0.098"
   ]
  },
  {
   "cell_type": "code",
   "execution_count": 16,
   "metadata": {},
   "outputs": [],
   "source": [
    "global g, S, rho\n",
    "S = 0.543455\n",
    "g = 9.81\n",
    "rho = 1.225\n",
    "mi = 0.025\n",
    "pista_total = 60\n",
    "\n",
    "CL = 1.9206\n",
    "CD = 0.2328"
   ]
  },
  {
   "cell_type": "code",
   "execution_count": 17,
   "metadata": {},
   "outputs": [],
   "source": [
    "def mtow (rho = 1.225, coeficientes = (-.0126, -0.5248, 40.0248)):\n",
    "    \n",
    "    a = coeficientes[0]\n",
    "    b = coeficientes[1]\n",
    "    c = coeficientes[2]\n",
    "    \n",
    "    for k in range (0, 270):\n",
    "        W= (k/(9)) * g\n",
    "        V = math.sqrt((2*W)/(rho*S*CL)) * 1.2 * 0.7\n",
    "        T = a*((V*0.7)**2)+b*(V*0.7)+c\n",
    "        D = rho*V**(2)*0.5*CD*S\n",
    "        L = rho*V**(2)*0.5*CL*S\n",
    "        Slo = round((1.44*(W)**(2))/(g*rho*S*CL*(T-(D+mi*(W-L)))), 2)\n",
    "        if Slo > pista_total:\n",
    "            break    \n",
    "\n",
    "    W = W # MTOW em Newton\n",
    "    return W"
   ]
  },
  {
   "cell_type": "code",
   "execution_count": 18,
   "metadata": {},
   "outputs": [
    {
     "data": {
      "text/plain": [
       "114.45"
      ]
     },
     "execution_count": 18,
     "metadata": {},
     "output_type": "execute_result"
    }
   ],
   "source": [
    "mtow()"
   ]
  },
  {
   "cell_type": "code",
   "execution_count": 19,
   "metadata": {},
   "outputs": [
    {
     "data": {
      "text/plain": [
       "11.666666666666666"
      ]
     },
     "execution_count": 19,
     "metadata": {},
     "output_type": "execute_result"
    }
   ],
   "source": [
    "mtow_kg = mtow()/9.81\n",
    "mtow_kg"
   ]
  },
  {
   "cell_type": "code",
   "execution_count": 20,
   "metadata": {},
   "outputs": [
    {
     "data": {
      "text/plain": [
       "8.401811259047001"
      ]
     },
     "execution_count": 20,
     "metadata": {},
     "output_type": "execute_result"
    }
   ],
   "source": [
    "massa_vazia = (11.48*((S)**2)) - 26.55*(S) + 19.44\n",
    "massa_vazia"
   ]
  },
  {
   "cell_type": "code",
   "execution_count": 21,
   "metadata": {},
   "outputs": [],
   "source": [
    "carga_paga = mtow_kg - massa_vazia"
   ]
  },
  {
   "cell_type": "code",
   "execution_count": 22,
   "metadata": {},
   "outputs": [
    {
     "data": {
      "text/plain": [
       "3.264855407619665"
      ]
     },
     "execution_count": 22,
     "metadata": {},
     "output_type": "execute_result"
    }
   ],
   "source": [
    "carga_paga"
   ]
  },
  {
   "cell_type": "code",
   "execution_count": null,
   "metadata": {},
   "outputs": [],
   "source": []
  }
 ],
 "metadata": {
  "kernelspec": {
   "display_name": "Python 3",
   "language": "python",
   "name": "python3"
  },
  "language_info": {
   "codemirror_mode": {
    "name": "ipython",
    "version": 3
   },
   "file_extension": ".py",
   "mimetype": "text/x-python",
   "name": "python",
   "nbconvert_exporter": "python",
   "pygments_lexer": "ipython3",
   "version": "3.8.5"
  }
 },
 "nbformat": 4,
 "nbformat_minor": 4
}
