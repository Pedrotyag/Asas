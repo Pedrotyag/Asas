{
 "cells": [
  {
   "cell_type": "markdown",
   "metadata": {},
   "source": [
    "This example shows how to use the PyVLM class to generate the wing planform of the Pilatus PC12, apply the Vortex Lattice Method and obtain CL(alpha) and CD(alpha) for single values and a range of values of AoA.\n",
    "\n",
    "The right wing will be defined using the following nomenclature while the left wing will be created as its specular image:                           \n",
    "![pilatusPC12](pc12.png)"
   ]
  },
  {
   "cell_type": "markdown",
   "metadata": {},
   "source": [
    "The geometry is defined as follows:"
   ]
  },
  {
   "cell_type": "code",
   "execution_count": 1,
   "metadata": {},
   "outputs": [],
   "source": [
    "import numpy as np\n",
    "import matplotlib.pyplot as plt\n",
    "\n",
    "from vlm import PyVLM\n",
    "\n",
    "pilatusPC12 = PyVLM()\n",
    "\n",
    "# Geometry parameters\n",
    "A = np.array([0, 1.03])  # root chord leading edge position\n",
    "B = np.array([.414, 8.14])  # tip chord leading edge position\n",
    "chord_1 = 2.15  # root chord length\n",
    "chord_2 = 1.24  # tip chord length\n",
    "\n",
    "leading_edges_position = [A, B]  # root, tip\n",
    "chord_length = [chord_1, chord_2]  # root, tip"
   ]
  },
  {
   "cell_type": "markdown",
   "metadata": {},
   "source": [
    "The default wing profile is the NACA2412 (this will change in the future to allow customization). The mesh is generated using the \"add_wing\" method of the PyVLM class, and visualize using \"check_mesh\":"
   ]
  },
  {
   "cell_type": "code",
   "execution_count": 2,
   "metadata": {},
   "outputs": [
    {
     "data": {
      "image/png": "[encoded data removed]",
      "text/plain": [
       "<Figure size 432x288 with 1 Axes>"
      ]
     },
     "metadata": {},
     "output_type": "display_data"
    }
   ],
   "source": [
    "n, m = 4, 3  # number of panels (chordwise, spanwise)\n",
    "pilatusPC12.add_wing(leading_edges_position, chord_length, n, m)\n",
    "pilatusPC12.check_mesh(plot_mesh=True)"
   ]
  },
  {
   "cell_type": "markdown",
   "metadata": {},
   "source": [
    "In case the output for a single value of alpha is desired (in this case AoA = 2deg), the following line will print the aerodynamic data (calculated by the VLM) of each panel:"
   ]
  },
  {
   "cell_type": "code",
   "execution_count": 3,
   "metadata": {},
   "outputs": [
    {
     "name": "stdout",
     "output_type": "stream",
     "text": [
      "\n",
      "Panel|  V∞_n |   Wi   |  α_i  |   Γ   |   cl   |   cd    |\n",
      "----------------------------------------------------------\n",
      "   0 |  0.03 |  -0.18 | 10.27 |  0.05 |  0.200 | 0.03615 |\n",
      "   1 |  0.03 |  -0.13 |  7.41 |  0.06 |  0.281 | 0.03659 |\n",
      "   2 |  0.03 |  -0.23 | 13.11 |  0.05 |  0.269 | 0.06269 |\n",
      "   3 | -0.03 |  -0.26 | 14.32 |  0.09 |  0.365 | 0.09307 |\n",
      "   4 | -0.03 |  -0.15 |  8.38 |  0.09 |  0.411 | 0.06054 |\n",
      "   5 | -0.03 |  -0.30 | 16.86 |  0.07 |  0.403 | 0.12214 |\n",
      "   6 | -0.06 |  -0.33 | 18.22 |  0.07 |  0.292 | 0.09625 |\n",
      "   7 | -0.06 |  -0.16 |  9.35 |  0.07 |  0.327 | 0.05380 |\n",
      "   8 | -0.06 |  -0.37 | 20.48 |  0.06 |  0.320 | 0.11962 |\n",
      "   9 | -0.09 |  -0.39 | 21.33 |  0.05 |  0.206 | 0.08055 |\n",
      "  10 | -0.09 |  -0.18 | 10.27 |  0.05 |  0.228 | 0.04139 |\n",
      "  11 | -0.09 |  -0.43 | 23.45 |  0.04 |  0.224 | 0.09717 |\n",
      "  12 |  0.03 |  -0.23 | 13.11 |  0.05 |  0.269 | 0.06269 |\n",
      "  13 |  0.03 |  -0.13 |  7.41 |  0.06 |  0.281 | 0.03659 |\n",
      "  14 |  0.03 |  -0.18 | 10.27 |  0.05 |  0.200 | 0.03615 |\n",
      "  15 | -0.03 |  -0.30 | 16.86 |  0.07 |  0.403 | 0.12214 |\n",
      "  16 | -0.03 |  -0.15 |  8.38 |  0.09 |  0.411 | 0.06054 |\n",
      "  17 | -0.03 |  -0.26 | 14.32 |  0.09 |  0.365 | 0.09307 |\n",
      "  18 | -0.06 |  -0.37 | 20.48 |  0.06 |  0.320 | 0.11962 |\n",
      "  19 | -0.06 |  -0.16 |  9.35 |  0.07 |  0.327 | 0.05380 |\n",
      "  20 | -0.06 |  -0.33 | 18.22 |  0.07 |  0.292 | 0.09625 |\n",
      "  21 | -0.09 |  -0.43 | 23.45 |  0.04 |  0.224 | 0.09717 |\n",
      "  22 | -0.09 |  -0.18 | 10.27 |  0.05 |  0.228 | 0.04139 |\n",
      "  23 | -0.09 |  -0.39 | 21.33 |  0.05 |  0.206 | 0.08055 |\n",
      "\n",
      " For alpha = 2.0 degrees:\n",
      "\tCL =  0.292\n",
      "\tCD =  0.07357\n"
     ]
    }
   ],
   "source": [
    "pilatusPC12.vlm(alpha=2, print_output=True)"
   ]
  },
  {
   "cell_type": "markdown",
   "metadata": {},
   "source": [
    "Finally, for a range of values of angle of attack [-15, 15] degrees, the aerodynamic forces coefficients CL, CD are obtained as lists returned from the method \"aerodyn_forces_coeff\" (along with alpha):"
   ]
  },
  {
   "cell_type": "code",
   "execution_count": 4,
   "metadata": {},
   "outputs": [
    {
     "data": {
      "image/png": "[encoded data removed]",
      "text/plain": [
       "<Figure size 432x288 with 2 Axes>"
      ]
     },
     "metadata": {},
     "output_type": "display_data"
    }
   ],
   "source": [
    "alpha, CL, CD = pilatusPC12.aerodyn_forces_coeff()\n",
    "\n",
    "plt.style.use('ggplot')\n",
    "\n",
    "plt.subplot(1, 2, 1)\n",
    "plt.title(\"CL\")\n",
    "plt.xlabel(\"alpha\")\n",
    "plt.plot(alpha, CL)\n",
    "\n",
    "plt.subplot(1, 2, 2)\n",
    "plt.title(\"CD\")\n",
    "plt.xlabel(\"alpha\")\n",
    "plt.plot(alpha, CD)\n",
    "\n",
    "plt.show()"
   ]
  }
 ],
 "metadata": {
  "kernelspec": {
   "display_name": "Python 3",
   "language": "python",
   "name": "python3"
  },
  "language_info": {
   "codemirror_mode": {
    "name": "ipython",
    "version": 3
   },
   "file_extension": ".py",
   "mimetype": "text/x-python",
   "name": "python",
   "nbconvert_exporter": "python",
   "pygments_lexer": "ipython3",
   "version": "3.7.3"
  }
 },
 "nbformat": 4,
 "nbformat_minor": 2
}
